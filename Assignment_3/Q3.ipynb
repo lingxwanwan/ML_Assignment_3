{
 "cells": [
  {
   "cell_type": "code",
   "execution_count": 27,
   "metadata": {},
   "outputs": [],
   "source": [
    "import pandas as pd\n",
    "import numpy as np\n",
    "from sklearn.model_selection import train_test_split\n",
    "import matplotlib.pyplot as plt\n"
   ]
  },
  {
   "cell_type": "code",
   "execution_count": 28,
   "metadata": {
    "pycharm": {
     "name": "#%%\n"
    }
   },
   "outputs": [],
   "source": [
    "data = pd.read_csv(\"mt.csv\")\n",
    "\n",
    "# Splitting data into input (X) and output (Y) variables\n",
    "X = data.iloc[:, :2]\n",
    "Y1 = data.iloc[:, 2]\n",
    "Y2 = data.iloc[:, 3]\n",
    "\n",
    "# Normalizing input data\n",
    "X = (X - np.mean(X,axis=0)) / np.std(X)\n",
    "\n",
    "# Splitting data into training and validation sets\n",
    "X_train, X_val, Y1_train, Y1_val, Y2_train, Y2_val = train_test_split(X, Y1, Y2, test_size=0.20)"
   ]
  },
  {
   "cell_type": "code",
   "execution_count": 29,
   "metadata": {},
   "outputs": [],
   "source": [
    "# Setting seed for reproducibility\n",
    "np.random.seed(42)\n",
    "\n",
    "# Initializing weights and biases\n",
    "w1 = np.random.randn(2, 5) * 0.01\n",
    "b1 = np.zeros((1, 5))\n",
    "w2 = np.random.randn(5, 4) * 0.01\n",
    "b2 = np.zeros((1, 4))\n",
    "w3 = np.random.randn(4, 2) * 0.01\n",
    "b3 = np.zeros((1, 2))\n"
   ]
  },
  {
   "cell_type": "code",
   "execution_count": null,
   "metadata": {},
   "outputs": [],
   "source": []
  },
  {
   "cell_type": "code",
   "execution_count": 30,
   "metadata": {},
   "outputs": [
    {
     "name": "stdout",
     "output_type": "stream",
     "text": [
      "Epoch: 1 Loss: 13933.543239840792\n",
      "Epoch: 2 Loss: 32444.840357661345\n",
      "Epoch: 3 Loss: 77643.16500614872\n",
      "Epoch: 4 Loss: nan\n",
      "Epoch: 5 Loss: 7185435.936067793\n",
      "Epoch: 6 Loss: nan\n",
      "Epoch: 7 Loss: 55092921.085464016\n",
      "Epoch: 8 Loss: nan\n",
      "Epoch: 9 Loss: 94436.16985936686\n",
      "Epoch: 10 Loss: 11274.871238371787\n",
      "Epoch: 11 Loss: 4331.259403321552\n",
      "Epoch: 12 Loss: 4293.923331367307\n",
      "Epoch: 13 Loss: 4243.426605162353\n",
      "Epoch: 14 Loss: 4251.228186941846\n",
      "Epoch: 15 Loss: 4249.559277869668\n",
      "Epoch: 16 Loss: 4249.891739670712\n",
      "Epoch: 17 Loss: 4249.8245703805405\n",
      "Epoch: 18 Loss: 4249.838102370868\n",
      "Epoch: 19 Loss: 4249.835374637245\n",
      "Epoch: 20 Loss: 4249.835924421101\n",
      "Epoch: 21 Loss: 4249.835813607724\n",
      "Epoch: 22 Loss: 4249.835835942946\n",
      "Epoch: 23 Loss: 4249.835831441134\n",
      "Epoch: 24 Loss: 4249.835832348493\n",
      "Epoch: 25 Loss: 4249.8358321656\n",
      "Epoch: 26 Loss: 4249.835832202467\n",
      "Epoch: 27 Loss: 4249.8358321950445\n",
      "Epoch: 28 Loss: 4249.83583219655\n",
      "Epoch: 29 Loss: 4249.835832196226\n",
      "Epoch: 30 Loss: 4249.835832196291\n",
      "Epoch: 31 Loss: 4249.835832196294\n",
      "Epoch: 32 Loss: 4249.8358321963\n",
      "Epoch: 33 Loss: 4249.8358321963\n",
      "Epoch: 34 Loss: 4249.835832196299\n",
      "Epoch: 35 Loss: 4249.835832196299\n",
      "Epoch: 36 Loss: 4249.835832196299\n",
      "Epoch: 37 Loss: 4249.835832196299\n",
      "Epoch: 38 Loss: 4249.835832196299\n",
      "Epoch: 39 Loss: 4249.835832196299\n",
      "Epoch: 40 Loss: 4249.835832196299\n",
      "Epoch: 41 Loss: 4249.835832196299\n",
      "Epoch: 42 Loss: 4249.835832196299\n",
      "Epoch: 43 Loss: 4249.835832196299\n",
      "Epoch: 44 Loss: 4249.835832196299\n",
      "Epoch: 45 Loss: 4249.835832196299\n",
      "Epoch: 46 Loss: 4249.835832196299\n",
      "Epoch: 47 Loss: 4249.835832196299\n",
      "Epoch: 48 Loss: 4249.835832196299\n",
      "Epoch: 49 Loss: 4249.835832196299\n",
      "Epoch: 50 Loss: 4249.835832196299\n",
      "Accuracy: 0.4\n",
      "Mean Squared Error: 24.982176292106217\n",
      "RMSE: 4.998217311412762\n"
     ]
    },
    {
     "name": "stderr",
     "output_type": "stream",
     "text": [
      "C:\\Users\\SAMYAK JAIN\\AppData\\Local\\Temp\\ipykernel_8696\\2203907787.py:35: RuntimeWarning: divide by zero encountered in log\n",
      "  loss1= np.sum(-Y1_train.values.reshape(-1, 1) * np.log(y1_pred) - (1 - Y1_train.values.reshape(-1, 1)) * np.log(1 - y1_pred))\n",
      "C:\\Users\\SAMYAK JAIN\\AppData\\Local\\Temp\\ipykernel_8696\\2203907787.py:35: RuntimeWarning: invalid value encountered in multiply\n",
      "  loss1= np.sum(-Y1_train.values.reshape(-1, 1) * np.log(y1_pred) - (1 - Y1_train.values.reshape(-1, 1)) * np.log(1 - y1_pred))\n"
     ]
    }
   ],
   "source": [
    "# Implement a multi-task neural network from scratch (incl.\n",
    "# back-propagation) having the following attributes:\n",
    "# (i) 2 inputs (both continuous)\n",
    "# (ii) 2 hidden layers (one has sigmoid and another has tanh as the\n",
    "# activation function)\n",
    "# (iii) 2 outputs (one for binary classification and another for regression)\n",
    "# The data given is in data. \n",
    "# Use stochastic gradient descent\n",
    "# approach and have 80:20 split for training and validation.\n",
    "# NOTE: For such multi-task learning problems, you can do a weighted addition\n",
    "# of the losses involved\n",
    "\n",
    "# Setting hyperparameters\n",
    "epochs = 50\n",
    "learning_rate = 0.01\n",
    "\n",
    "# Initializing losses\n",
    "losses1 = []\n",
    "losses2 = []\n",
    "\n",
    "# Training the model\n",
    "for i in range(epochs):\n",
    "    # Forward propagation\n",
    "    a1 = np.dot(X_train, w1) + b1\n",
    "    z1 = np.tanh(a1)\n",
    "    a2 = np.dot(z1, w2) + b2\n",
    "    z2 = 1 / (1 + np.exp(-a2))\n",
    "    a3_1 = np.dot(z2, w3) + b3\n",
    "    y1_pred = 1 / (1 + np.exp(-a3_1))\n",
    "    a3_2 = np.dot(z2, w3) + b3\n",
    "    y2_pred = np.dot(z2, w3) + b3\n",
    "\n",
    "    # Computing loss for binary classification task\n",
    "    delta_y1 = y1_pred - Y1_train.values.reshape(-1, 1)\n",
    "    loss1= np.sum(-Y1_train.values.reshape(-1, 1) * np.log(y1_pred) - (1 - Y1_train.values.reshape(-1, 1)) * np.log(1 - y1_pred))\n",
    "    losses1.append(loss1)\n",
    "\n",
    "    # Computing loss for regression task\n",
    "    delta_y2 = y2_pred - Y2_train.values.reshape(-1, 1)\n",
    "    loss2 = np.sum(np.square(delta_y2))\n",
    "    losses2.append(loss2)\n",
    "\n",
    "    # Backpropagation\n",
    "    d_w3_y1 = np.dot(z2.T, delta_y1)\n",
    "    d_w3_y2 = np.dot(z2.T, delta_y2)\n",
    "    delta_z2 = np.dot(delta_y1, w3.T) * (z2 * (1 - z2))\n",
    "    d_w2 = np.dot(z1.T, delta_z2)\n",
    "    delta_a1 = np.dot(delta_z2, w2.T) * (1 - np.power(z1, 2))\n",
    "    d_w1 = np.dot(X_train.T, delta_a1)\n",
    "    w1 -= learning_rate * d_w1\n",
    "    b1 -= learning_rate * np.sum(delta_a1, axis=0, keepdims=True)\n",
    "    w2 -= learning_rate * d_w2\n",
    "    b2 -= learning_rate * np.sum(delta_z2, axis=0)\n",
    "    w3 -= learning_rate * d_w3_y1 + learning_rate * d_w3_y2\n",
    "    b3 -= learning_rate * np.sum(delta_y1, axis=0, keepdims=True) + learning_rate * np.sum(delta_y2, axis=0, keepdims=True)\n",
    "\n",
    "    # Printing current epoch and total loss\n",
    "    print(\"Epoch:\", i+1, \"Loss:\", loss1 + loss2)\n",
    "\n",
    "# Forward propagation on validation data\n",
    "a1_val = np.dot(X_val, w1) + b1\n",
    "z1_val = np.tanh(a1_val)\n",
    "a2_val = np.dot(z1_val, w2) + b2\n",
    "z2_val = 1 / (1 + np.exp(-a2_val))\n",
    "a3_1_val = np.dot(z2_val, w3) + b3\n",
    "y1_pred_val = 1 / (1 + np.exp(-a3_1_val))\n",
    "a3_2_val = np.dot(z2_val, w3) + b3\n",
    "y2_pred_val = np.dot(z2_val, w3) + b3\n",
    "\n",
    "# Computing accuracy and mean squared error\n",
    "pred1 = np.where(y1_pred_val > 0.5, 1, 0)\n",
    "accuracy = np.mean(pred1 == Y1_val.values.reshape(-1, 1))\n",
    "mse = np.mean(np.square(y2_pred_val - Y2_val.values.reshape(-1, 1)))\n",
    "print(\"Accuracy:\", accuracy)\n",
    "print(\"Mean Squared Error:\", mse)\n",
    "print(\"RMSE:\", np.sqrt(mse))\n"
   ]
  },
  {
   "cell_type": "code",
   "execution_count": 31,
   "metadata": {},
   "outputs": [
    {
     "data": {
      "image/png": "[encoded data removed]",
      "text/plain": [
       "<Figure size 640x480 with 1 Axes>"
      ]
     },
     "metadata": {},
     "output_type": "display_data"
    }
   ],
   "source": [
    "# Plotting losses1\n",
    "plt.plot(losses1)\n",
    "plt.xlabel(\"Epochs\")\n",
    "plt.ylabel(\"Loss\")\n",
    "plt.title(\"Loss vs Epochs for Binary Classification Task\")\n",
    "plt.show()"
   ]
  },
  {
   "cell_type": "code",
   "execution_count": 32,
   "metadata": {},
   "outputs": [
    {
     "data": {
      "image/png": "[encoded data removed]",
      "text/plain": [
       "<Figure size 640x480 with 1 Axes>"
      ]
     },
     "metadata": {},
     "output_type": "display_data"
    }
   ],
   "source": [
    "# Plotting losses2\n",
    "plt.plot(losses2)\n",
    "plt.xlabel(\"Epochs\")\n",
    "plt.ylabel(\"Loss\")\n",
    "plt.title(\"Loss vs Epochs for Regression Task\")\n",
    "plt.show()"
   ]
  },
  {
   "cell_type": "code",
   "execution_count": 33,
   "metadata": {},
   "outputs": [
    {
     "name": "stdout",
     "output_type": "stream",
     "text": [
      "[[1 1]\n",
      " [1 1]\n",
      " [1 1]\n",
      " [1 1]\n",
      " [1 1]\n",
      " [1 1]\n",
      " [1 1]\n",
      " [1 1]\n",
      " [1 1]\n",
      " [1 1]\n",
      " [1 1]\n",
      " [1 1]\n",
      " [1 1]\n",
      " [1 1]\n",
      " [1 1]\n",
      " [1 1]\n",
      " [1 1]\n",
      " [1 1]\n",
      " [1 1]\n",
      " [1 1]\n",
      " [1 1]\n",
      " [1 1]\n",
      " [1 1]\n",
      " [1 1]\n",
      " [1 1]\n",
      " [1 1]\n",
      " [1 1]\n",
      " [1 1]\n",
      " [1 1]\n",
      " [1 1]]\n"
     ]
    }
   ],
   "source": [
    "print(pred1)"
   ]
  },
  {
   "cell_type": "code",
   "execution_count": 34,
   "metadata": {},
   "outputs": [
    {
     "name": "stdout",
     "output_type": "stream",
     "text": [
      "[[6.6445494 6.6445494]\n",
      " [6.6445494 6.6445494]\n",
      " [6.6445494 6.6445494]\n",
      " [6.6445494 6.6445494]\n",
      " [6.6445494 6.6445494]\n",
      " [6.6445494 6.6445494]\n",
      " [6.6445494 6.6445494]\n",
      " [6.6445494 6.6445494]\n",
      " [6.6445494 6.6445494]\n",
      " [6.6445494 6.6445494]\n",
      " [6.6445494 6.6445494]\n",
      " [6.6445494 6.6445494]\n",
      " [6.6445494 6.6445494]\n",
      " [6.6445494 6.6445494]\n",
      " [6.6445494 6.6445494]\n",
      " [6.6445494 6.6445494]\n",
      " [6.6445494 6.6445494]\n",
      " [6.6445494 6.6445494]\n",
      " [6.6445494 6.6445494]\n",
      " [6.6445494 6.6445494]\n",
      " [6.6445494 6.6445494]\n",
      " [6.6445494 6.6445494]\n",
      " [6.6445494 6.6445494]\n",
      " [6.6445494 6.6445494]\n",
      " [6.6445494 6.6445494]\n",
      " [6.6445494 6.6445494]\n",
      " [6.6445494 6.6445494]\n",
      " [6.6445494 6.6445494]\n",
      " [6.6445494 6.6445494]\n",
      " [6.6445494 6.6445494]]\n"
     ]
    }
   ],
   "source": [
    "print(y2_pred_val)"
   ]
  }
 ],
 "metadata": {
  "kernelspec": {
   "display_name": "base",
   "language": "python",
   "name": "python3"
  },
  "language_info": {
   "codemirror_mode": {
    "name": "ipython",
    "version": 3
   },
   "file_extension": ".py",
   "mimetype": "text/x-python",
   "name": "python",
   "nbconvert_exporter": "python",
   "pygments_lexer": "ipython3",
   "version": "3.9.12"
  },
  "orig_nbformat": 4
 },
 "nbformat": 4,
 "nbformat_minor": 2
}
